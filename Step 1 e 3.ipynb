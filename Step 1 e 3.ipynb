{
 "cells": [
  {
   "cell_type": "code",
   "execution_count": 34,
   "id": "2518edc9",
   "metadata": {},
   "outputs": [],
   "source": [
    "# STEP 1\n",
    "# Importo le librerie necessarie\n",
    "import os\n",
    "import shutil\n",
    "import csv"
   ]
  },
  {
   "cell_type": "code",
   "execution_count": 5,
   "id": "7efab85c",
   "metadata": {},
   "outputs": [],
   "source": [
    "# Imposto la directory contenente i file\n",
    "folder_path = 'files'"
   ]
  },
  {
   "cell_type": "code",
   "execution_count": 36,
   "id": "9a3d1df4",
   "metadata": {},
   "outputs": [],
   "source": [
    "# Creo un dizionario per memorizzare le informazioni sui file\n",
    "file_info = {}\n",
    "\n",
    "# Controllo se il file recap.csv esiste e se possibile ne carico le informazioni\n",
    "recap_file = os.path.join(folder_path, 'recap.csv')\n",
    "if os.path.exists(recap_file):\n",
    "    with open(recap_file, 'r') as f:\n",
    "        reader = csv.DictReader(f)\n",
    "        for row in reader:\n",
    "            file_info[row['name']] = {'type': row['type'], 'size': int(row['size'])}"
   ]
  },
  {
   "cell_type": "code",
   "execution_count": 37,
   "id": "ac8240f4",
   "metadata": {},
   "outputs": [
    {
     "name": "stdout",
     "output_type": "stream",
     "text": [
      "Batman.docx type:doc size:0B\n"
     ]
    }
   ],
   "source": [
    "# Itero sui file nella directory in ordine alfabetico e salto quelli già presenti nel dizionario\n",
    "for file_name in sorted(os.listdir(folder_path)):\n",
    "    if file_name in file_info:\n",
    "        continue\n",
    "    \n",
    "    # Ottengo il percorso del file\n",
    "    file_path = os.path.join(folder_path, file_name)\n",
    "    \n",
    "    # Verifico che il file sia regolare e ottengo l'estensione\n",
    "    if os.path.isfile(file_path):\n",
    "        ext = os.path.splitext(file_name)[1]\n",
    "        \n",
    "        # Distinguo il tipo di file in base all'estensione\n",
    "        if ext in ['.mp3', '.wav']:\n",
    "            file_type = 'audio'\n",
    "        elif ext in ['.txt', '.odt', '.docx']:\n",
    "            file_type = 'doc'\n",
    "        elif ext in ['.png', '.jpg', '.jpeg']:\n",
    "            file_type = 'image'\n",
    "        else:\n",
    "            continue\n",
    "        \n",
    "        # Ottengo la dimensione del file in byte\n",
    "        size = os.path.getsize(file_path)\n",
    "        \n",
    "        # Stampo le informazioni del file e le memorizzo nel dizionario\n",
    "        print(f'{file_name} type:{file_type} size:{size}B')\n",
    "        file_info[file_name] = {'type': file_type, 'size': size}\n",
    "        \n",
    "        # Creo la sottodirectory se non esiste\n",
    "        sub_dir = os.path.join(folder_path, file_type + 's')\n",
    "        if not os.path.exists(sub_dir):\n",
    "            os.makedirs(sub_dir)\n",
    "        \n",
    "        # Sposto il file nella sottodirectory\n",
    "        shutil.move(file_path, os.path.join(sub_dir, file_name))"
   ]
  },
  {
   "cell_type": "code",
   "execution_count": 38,
   "id": "846b79cc",
   "metadata": {},
   "outputs": [],
   "source": [
    "# Creo e aggiorno il file recap.csv\n",
    "with open(recap_file, 'w') as f:\n",
    "    writer = csv.DictWriter(f, fieldnames=['name', 'type', 'size'])\n",
    "    writer.writeheader()\n",
    "    for name, info in file_info.items():\n",
    "        writer.writerow({'name': name, 'type': info['type'], 'size': info['size']})"
   ]
  },
  {
   "cell_type": "code",
   "execution_count": 2,
   "id": "daea2c28",
   "metadata": {},
   "outputs": [
    {
     "name": "stdout",
     "output_type": "stream",
     "text": [
      "Requirement already satisfied: Pillow in c:\\users\\enric\\anaconda3\\lib\\site-packages (9.4.0)\n",
      "Requirement already satisfied: numpy in c:\\users\\enric\\anaconda3\\lib\\site-packages (1.23.5)\n",
      "Requirement already satisfied: tabulate in c:\\users\\enric\\anaconda3\\lib\\site-packages (0.8.10)\n"
     ]
    }
   ],
   "source": [
    "# STEP 3\n",
    "# Importo le librerie necessarie\n",
    "!pip install Pillow numpy tabulate\n",
    "\n",
    "from PIL import Image\n",
    "import numpy as np\n",
    "from tabulate import tabulate\n",
    "import os"
   ]
  },
  {
   "cell_type": "raw",
   "id": "6d84728e",
   "metadata": {},
   "source": [
    "# Imposto la directory contenente le immagini\n",
    "images_path = 'images'"
   ]
  },
  {
   "cell_type": "code",
   "execution_count": 3,
   "id": "913b75fd",
   "metadata": {},
   "outputs": [],
   "source": [
    "# Creo una lista vuota per i dati delle immagini\n",
    "image_data = []\n",
    "\n",
    "# Itero sulle immagini della cartella\n",
    "for image_name in os.listdir(images_path):\n",
    "    image = Image.open(os.path.join(images_path, image_name))\n",
    "    \n",
    "    # Converto l'immagine in un array NumPy\n",
    "    image_array = np.array(image)\n",
    "    \n",
    "    # Ottengo le dimensioni dell'immagine e controllo se è in bianco e nero o a colori\n",
    "    height, width = image_array.shape[:2]\n",
    "    if len(image_array.shape) == 2:\n",
    "        grayscale = round(np.mean(image_array), 2)\n",
    "        R = G = B = ALPHA = 0.0\n",
    "    else:\n",
    "        grayscale = 0.0\n",
    "        R = round(np.mean(image_array[:,:,0]), 2)\n",
    "        G = round(np.mean(image_array[:,:,1]), 2)\n",
    "        B = round(np.mean(image_array[:,:,2]), 2)\n",
    "        if image_array.shape[2] == 4:\n",
    "            ALPHA = round(np.mean(image_array[:,:,3]), 2)\n",
    "        else:\n",
    "            ALPHA = 0.0\n",
    "    \n",
    "    # Unisco i dati alla lista\n",
    "    image_data.append([image_name, height, width, grayscale, R, G, B, ALPHA])"
   ]
  },
  {
   "cell_type": "code",
   "execution_count": 4,
   "id": "2e6ba195",
   "metadata": {},
   "outputs": [
    {
     "name": "stdout",
     "output_type": "stream",
     "text": [
      "╒══════════════╤══════════╤═════════╤═════════════╤════════╤════════╤═══════╤═════════╕\n",
      "│ name         │   height │   width │   grayscale │      R │      G │     B │   ALPHA │\n",
      "╞══════════════╪══════════╪═════════╪═════════════╪════════╪════════╪═══════╪═════════╡\n",
      "│ bw.png       │      512 │     512 │       21.48 │   0    │   0    │  0    │    0    │\n",
      "├──────────────┼──────────┼─────────┼─────────────┼────────┼────────┼───────┼─────────┤\n",
      "│ daffodil.jpg │      500 │     335 │        0    │ 109.25 │  85.56 │  4.97 │    0    │\n",
      "├──────────────┼──────────┼─────────┼─────────────┼────────┼────────┼───────┼─────────┤\n",
      "│ eclipse.png  │      256 │     256 │        0    │ 109.05 │ 109.52 │ 39.85 │  133.59 │\n",
      "├──────────────┼──────────┼─────────┼─────────────┼────────┼────────┼───────┼─────────┤\n",
      "│ trump.jpeg   │      183 │     275 │        0    │  97.01 │  98.99 │ 90.92 │    0    │\n",
      "╘══════════════╧══════════╧═════════╧═════════════╧════════╧════════╧═══════╧═════════╛\n"
     ]
    }
   ],
   "source": [
    "# Creo una tabella usando tabulate\n",
    "table_headers = ['name', 'height', 'width', 'grayscale', 'R', 'G', 'B', 'ALPHA']\n",
    "table = tabulate(image_data, headers=table_headers, tablefmt='fancy_grid')\n",
    "\n",
    "# Stampo la tabella\n",
    "print(table)"
   ]
  },
  {
   "cell_type": "code",
   "execution_count": null,
   "id": "52b6628a",
   "metadata": {},
   "outputs": [],
   "source": []
  }
 ],
 "metadata": {
  "kernelspec": {
   "display_name": "Python 3 (ipykernel)",
   "language": "python",
   "name": "python3"
  },
  "language_info": {
   "codemirror_mode": {
    "name": "ipython",
    "version": 3
   },
   "file_extension": ".py",
   "mimetype": "text/x-python",
   "name": "python",
   "nbconvert_exporter": "python",
   "pygments_lexer": "ipython3",
   "version": "3.10.9"
  }
 },
 "nbformat": 4,
 "nbformat_minor": 5
}
